{
 "cells": [
  {
   "cell_type": "markdown",
   "metadata": {},
   "source": [
    "# **Introduction**\n",
    "Extremophilic microorganisms are of increasing importance due to their peculiar characteristics, from the faster growth and polymer production rates of thermophiles to the cryoprotective potential of the EPS of halophiles and psychrophiles. Habitats of extreme nature, whether it regards temperature, salinity, acidity, barometry, oxygenation or light availability, have induced selective pressure on microbial life to an extent that their adaptability and biochemical flexibility becomes a highlight for scientific experimentation.\n",
    "\n",
    "It has been often supported that the cryoprotective potential of a biomolecule mostly correlates with its polyanionicity, due to the effectiveness of its interaction with water molecules during the freezing stage. However, a successful in vitro and in vivo cryoprotective outcome is largely multiparametric. In this report, we perform multidimensional analysis (MDA) on a systematically chosen literature dataset, to uncover further insights to the structure-function relationship of bacterial biopolysaccharides in the context of cryopreservation.\n",
    "\n",
    "*The following assumptions are *a priori* of any multidimensional analysis, and serve simultaneously as checkpoints for confirmation of the validity of our initial data and as testing hypotheses for new insights."
   ]
  },
  {
   "cell_type": "markdown",
   "metadata": {},
   "source": [
    "# **Structural assumptions**\n",
    "\n",
    "- β-glucans like cellulose and curdlan are water-insoluble\t\t\t\t\t\t\t\t\t\t\t\t\t\t\t\t\t\t\t\t\t\t\t\t\n",
    "- α-glucans like dextran are water-soluble\t\t\t\t\t\t\t\t\t\t\t\t\t\t\t\t\t\t\t\t\t\t\t\t\n",
    "- A β-glucan is only soluble when it contains more than a β(1-4) linkage, like alginate\t\t\t\t\t\t\t\t\t\t\t\t\t\t\t\t\t\t\t\t\t\t\t\t\n",
    "- β linkages that are not 1-4 but are glucose, like the β(1-3) of laminarin are water-soluble. However curdlan is not soluble but is also β(1-3). The difference is that laminarin also contains β(1-6) as graft\t\t\t\t\t\t\t\t\t\t\t\t\t\t\t\t\t\t\t\t\t\t\t\t\n",
    "- β linkages that are not 1-4 usually but not glucose, like the β(1-2) sucrose linkages of Ficoll, are water-soluble\t\t\t\n",
    "- Branching results in higher solubility because it decreases packing capacity\n",
    "- β-linkages (1-4 or 1-3) result in structure rigidity (e.g. cellulose, cellulosic backbone of xanthan)\n",
    "- α-linkages (1-2 or 1-6) result in structure flexibility (e.g. dextrans)\n",
    "- Random coil to helix transitions depend on the amount of acyl groups pyruvate ketal substituents present (https://sci-hub.st/10.1099/00221287-147-1-3)\n",
    "- Hydrogen bonding and electrostatic forces dominate bonding in polysaccharides. Ionic interactions might be involved but are subtle. Chain-chain forces define the formation of flocs, strong/weak gels or insoluble networks\n",
    "- Helical polysaccharides might adapt better to temperature variations. An increase in T of double helices shows smooth separation into single chains with reversibility and preservation of rheology\n",
    "\n"
   ]
  },
  {
   "cell_type": "markdown",
   "metadata": {},
   "source": [
    "# **Functional assumptions**\n",
    "\n",
    "- Non-neutral polymers show greater ability to interact with water\n",
    "- Polyanionicity is more common than polycationicity: carboxyl, phosphate, sulphate and groups; also uronic acids confer this property.\n",
    "- Polyanionicity with similar composition is also found in halophiles, showing that cryoprotection and osmoprotection are closely related features. It also might enhance cellular attachments, thus proliferation\n",
    "- Pseudohelicoidal structures are favored in the inhibition of ice recrystallization\n",
    "- A structural equilibrium between hydrophilic and hydrophobic regions is favoured: better interaction with the ice front (just like AFPs)\n",
    "- Higher molecular weight results in better water binding capacity\n",
    "- Psychrophilic bacteria capable of producing branched dextran actually favor less-branched dextran composition with higher molecular weight at lower growth temperatures\n",
    "- The higher MW structures observed at low temp are possibly related to greater probability of polymer entanglement, resulting in tertiary structures that might enhance the cryoprotective function\n",
    "- Bacterial EPS usually contain 2 to 5 different monomers. Man, Gal and Glc are the overall core. Man dominates in thermophiles, Man, GalN and uronic acids in psychrophiles.\n",
    "- Lower temperatures influence branched-to-linear transitions on the polymer's degree of branching\n",
    "- Psychrophilic EPS seems to tolerate large pH and salt ranges without significant change of rheology\n",
    "- EPS with \"sticky\" properties due to anionicity that are metal-binders and nutrient-concentrators, are also potential cryoprotectants.\n",
    "- Marine bacteria contain 20-50% uronic acids in its polysaccharide content. Sulfate is also crucial for granting a anionic charge\n",
    "- Bacterial structures show diversity that is 10x higher for monosaccharides and 9x higher for glycosidic bonds compared to those reported from mammals *(Herget, S., Toukach, P., Ranzinger, R., Hull, W., Knirel, Y., & Von Der Lieth, C.-W. (2008). Statistical analysis of the bacterial carbohydrate structure data base (BCSDB): Characteristics and diversity of bacterial carbohydrates in comparison with mammalian glycans. BMC Structural Biology, 8, 35.)*\n",
    "- Anionic EPSs generally prefer to bind cations with large ionic radii, like Pb (https://doi.org/10.3390/md8082240)\n",
    "- There is a correlation between high sulphation levels and antiviral and antitumoral properties."
   ]
  }
 ],
 "metadata": {
  "kernelspec": {
   "display_name": "Python 3",
   "language": "python",
   "name": "python3"
  },
  "language_info": {
   "codemirror_mode": {
    "name": "ipython",
    "version": 3
   },
   "file_extension": ".py",
   "mimetype": "text/x-python",
   "name": "python",
   "nbconvert_exporter": "python",
   "pygments_lexer": "ipython3",
   "version": "3.8.5"
  }
 },
 "nbformat": 4,
 "nbformat_minor": 4
}
